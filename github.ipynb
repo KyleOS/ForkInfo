{
 "cells": [
  {
   "cell_type": "code",
   "execution_count": 1,
   "metadata": {
    "collapsed": true
   },
   "outputs": [],
   "source": [
    "import json\n",
    "import requests"
   ]
  },
  {
   "cell_type": "code",
   "execution_count": 23,
   "metadata": {},
   "outputs": [
    {
     "name": "stdout",
     "output_type": "stream",
     "text": [
      "https://api.github.com/repos/rhnvrm/labeled-tweet-generator/forks\n"
     ]
    }
   ],
   "source": [
    "repopath = 'ptwobrussell/Mining-the-Social-Web'\n",
    "repopath ='mikhailklassen/Mining-the-Social-Web-3rd-Edition'\n",
    "repopath ='rhnvrm/labeled-tweet-generator'\n",
    "repo_forks_url = 'https://api.github.com/repos/' + repopath +'/forks'\n",
    "print(repo_forks_url)\n",
    "response = requests.get(repo_forks_url)\n",
    "#forked_repos = json.dumps(response.json())"
   ]
  },
  {
   "cell_type": "code",
   "execution_count": 31,
   "metadata": {
    "collapsed": true
   },
   "outputs": [],
   "source": [
    "from bs4 import BeautifulSoup\n",
    "import requests\n",
    "def getForkDiffInfo(repolink):\n",
    "    repohtml = requests.get(repolink).text\n",
    "    reposoup = BeautifulSoup(repohtml, 'lxml')\n",
    "    diffinfo = reposoup.find('div', attrs={'class': 'branch-infobar'})\n",
    "    diff_info_line = diffinfo.contents[-1].strip()\n",
    "    return diff_info_line"
   ]
  },
  {
   "cell_type": "code",
   "execution_count": 32,
   "metadata": {},
   "outputs": [
    {
     "name": "stdout",
     "output_type": "stream",
     "text": [
      "bpjnr/labeled-tweet-generator This branch is even with rhnvrm:master.\n",
      "OrhanAbuska/labeled-tweet-generator This branch is 1 commit ahead of rhnvrm:master.\n",
      "SergeiMeza/labeled-tweet-generator This branch is even with rhnvrm:master.\n",
      "niketanrock07/labeled-tweet-generator This branch is even with rhnvrm:master.\n",
      "kunalG98/labeled-tweet-generator This branch is even with rhnvrm:master.\n",
      "Chinaskij/labeled-tweet-generator This branch is even with rhnvrm:master.\n",
      "dineshmendhe1/labeled-tweet-generator This branch is even with rhnvrm:master.\n",
      "xurdeeq/labeled-tweet-generator This branch is even with rhnvrm:master.\n",
      "yunzhejiao/labeled-tweet-generator This branch is even with rhnvrm:master.\n",
      "Oyedapson/labeled-tweet-generator This branch is even with rhnvrm:master.\n",
      "amit6604/labeled-tweet-generator This branch is even with rhnvrm:master.\n",
      "con007/labeled-tweet-generator This branch is even with rhnvrm:master.\n",
      "mohit61/labeled-tweet-generator This branch is even with rhnvrm:master.\n",
      "Your-Day-Today/labeled-tweet-generator This branch is even with rhnvrm:master.\n",
      "praveenarangavajhula/labeled-tweet-generator This branch is even with rhnvrm:master.\n",
      "chucta/labeled-tweet-generator This branch is even with rhnvrm:master.\n",
      "iamSubhoKarmakar/labeled-tweet-generator This branch is even with rhnvrm:master.\n",
      "piyushvarshney/labeled-tweet-generator This branch is even with rhnvrm:master.\n",
      "srikanthgr1/labeled-tweet-generator This branch is even with rhnvrm:master.\n",
      "tjtanvir666/labeled-tweet-generator This branch is even with rhnvrm:master.\n",
      "gulatigaurav/labeled-tweet-generator This branch is even with rhnvrm:master.\n",
      "LewisRa/labeled-tweet-generator This branch is even with rhnvrm:master.\n",
      "ilsalvador83/labeled-tweet-generator This branch is even with rhnvrm:master.\n",
      "marrycv/labeled-tweet-generator This branch is even with rhnvrm:master.\n",
      "stevenincode/ytube-py-2-winner-labeled-tweet-generator This branch is even with rhnvrm:master.\n",
      "timypcr/labeled-tweet-generator This branch is even with rhnvrm:master.\n",
      "avazhang2016/labeled-tweet-generator This branch is even with rhnvrm:master.\n",
      "naveen1107/labeled-tweet-generator This branch is even with rhnvrm:master.\n",
      "tanzir71/labeled-tweet-generator This branch is even with rhnvrm:master.\n",
      "ajaykumar127/labeled-tweet-generator This branch is even with rhnvrm:master.\n"
     ]
    }
   ],
   "source": [
    "for repoinfo in response.json():\n",
    "    reponame = repoinfo['full_name']\n",
    "    print(reponame,   getForkDiffInfo('https://github.com/' + reponame))"
   ]
  }
 ],
 "metadata": {
  "kernelspec": {
   "display_name": "Python 3",
   "language": "python",
   "name": "python3"
  },
  "language_info": {
   "codemirror_mode": {
    "name": "ipython",
    "version": 3
   },
   "file_extension": ".py",
   "mimetype": "text/x-python",
   "name": "python",
   "nbconvert_exporter": "python",
   "pygments_lexer": "ipython3",
   "version": "3.6.8"
  }
 },
 "nbformat": 4,
 "nbformat_minor": 2
}
